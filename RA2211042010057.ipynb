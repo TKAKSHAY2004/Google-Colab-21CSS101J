{
  "nbformat": 4,
  "nbformat_minor": 0,
  "metadata": {
    "colab": {
      "provenance": [],
      "authorship_tag": "ABX9TyN6zS+CmqpLOEdtP48s555a",
      "include_colab_link": true
    },
    "kernelspec": {
      "name": "python3",
      "display_name": "Python 3"
    },
    "language_info": {
      "name": "python"
    }
  },
  "cells": [
    {
      "cell_type": "markdown",
      "metadata": {
        "id": "view-in-github",
        "colab_type": "text"
      },
      "source": [
        "<a href=\"https://colab.research.google.com/github/TKAKSHAY2004/Google-Colab-21CSS101J/blob/main/RA2211042010057.ipynb\" target=\"_parent\"><img src=\"https://colab.research.google.com/assets/colab-badge.svg\" alt=\"Open In Colab\"/></a>"
      ]
    },
    {
      "cell_type": "code",
      "execution_count": 2,
      "metadata": {
        "colab": {
          "base_uri": "https://localhost:8080/"
        },
        "id": "pZA1TXewJQqK",
        "outputId": "81e6f7f8-942f-48fb-cbc3-1f1a4109687a"
      },
      "outputs": [
        {
          "output_type": "stream",
          "name": "stdout",
          "text": [
            "RA2211042010057\n"
          ]
        }
      ],
      "source": [
        "print(\"RA2211042010057\")"
      ]
    },
    {
      "cell_type": "code",
      "source": [
        "print(\"3 + 9\")"
      ],
      "metadata": {
        "colab": {
          "base_uri": "https://localhost:8080/"
        },
        "id": "PmnkLchlJkvX",
        "outputId": "4f806755-99ca-40c4-b184-81defd830f95"
      },
      "execution_count": 3,
      "outputs": [
        {
          "output_type": "stream",
          "name": "stdout",
          "text": [
            "3 + 9\n"
          ]
        }
      ]
    },
    {
      "cell_type": "code",
      "source": [
        "a = 5.0\n",
        "b = 3\n",
        "print(a - b) \n",
        "print(a*b)\n",
        "print(a / b)\n",
        "print(a % b)"
      ],
      "metadata": {
        "colab": {
          "base_uri": "https://localhost:8080/"
        },
        "id": "5xDDANynJqQc",
        "outputId": "e0d203c0-a0a4-4c58-aefe-ade11a2f86dc"
      },
      "execution_count": 9,
      "outputs": [
        {
          "output_type": "stream",
          "name": "stdout",
          "text": [
            "2.0\n",
            "15.0\n",
            "1.6666666666666667\n",
            "2.0\n"
          ]
        }
      ]
    },
    {
      "cell_type": "code",
      "source": [
        "x = 5\n",
        "y = \"lohit\"\n",
        "print(x)\n",
        "print(y)"
      ],
      "metadata": {
        "colab": {
          "base_uri": "https://localhost:8080/"
        },
        "id": "OHNtvRwcKldD",
        "outputId": "6d9c5435-14a4-40bc-8c53-dd21b7fde9f8"
      },
      "execution_count": 11,
      "outputs": [
        {
          "output_type": "stream",
          "name": "stdout",
          "text": [
            "5\n",
            "lohit\n"
          ]
        }
      ]
    },
    {
      "cell_type": "code",
      "source": [
        "x = str(\"char\")\n",
        "y = int(\"4\")\n",
        "z = float(4.0)\n",
        "print(x)\n",
        "print(y)\n",
        "print(z)"
      ],
      "metadata": {
        "colab": {
          "base_uri": "https://localhost:8080/"
        },
        "id": "oYnHl1UbMMXf",
        "outputId": "0c6d70b9-dd98-41f6-e8cd-dbb683fe2871"
      },
      "execution_count": 12,
      "outputs": [
        {
          "output_type": "stream",
          "name": "stdout",
          "text": [
            "char\n",
            "4\n",
            "4.0\n"
          ]
        }
      ]
    },
    {
      "cell_type": "code",
      "source": [
        "x = \"yes \"\n",
        "\n",
        "y = 4\n",
        "print(x*y)"
      ],
      "metadata": {
        "colab": {
          "base_uri": "https://localhost:8080/"
        },
        "id": "j9vi778SMwXF",
        "outputId": "6d06f738-474f-4694-fc3b-ccb198e833d1"
      },
      "execution_count": 19,
      "outputs": [
        {
          "output_type": "stream",
          "name": "stdout",
          "text": [
            "yes yes yes yes \n"
          ]
        }
      ]
    },
    {
      "cell_type": "code",
      "source": [
        "number = [9,36,57]\n",
        "x,y,z = number\n",
        "print(x)\n",
        "print(y)\n",
        "print(z)"
      ],
      "metadata": {
        "colab": {
          "base_uri": "https://localhost:8080/"
        },
        "id": "UFZo87mwPqEN",
        "outputId": "dec9e1a3-3d08-41ce-f095-49ed913b6f57"
      },
      "execution_count": 20,
      "outputs": [
        {
          "output_type": "stream",
          "name": "stdout",
          "text": [
            "9\n",
            "36\n",
            "57\n"
          ]
        }
      ]
    },
    {
      "cell_type": "code",
      "source": [
        "x = \"python\"\n",
        "y = \"is\"\n",
        "z = \"awesome\"\n",
        "print(x,y,z)"
      ],
      "metadata": {
        "colab": {
          "base_uri": "https://localhost:8080/"
        },
        "id": "P9QmWHPtQOCN",
        "outputId": "a5d17c49-804e-4043-fec3-88ba13ede695"
      },
      "execution_count": 22,
      "outputs": [
        {
          "output_type": "stream",
          "name": "stdout",
          "text": [
            "python is awesome\n"
          ]
        }
      ]
    },
    {
      "cell_type": "code",
      "source": [
        "x = \"nirmal\"\n",
        "y = 5\n",
        "print(x , y)\n"
      ],
      "metadata": {
        "colab": {
          "base_uri": "https://localhost:8080/"
        },
        "id": "Kg9JF7gzQoBo",
        "outputId": "3497e466-f53b-462b-9e2d-2fa89e4ecc6a"
      },
      "execution_count": 25,
      "outputs": [
        {
          "output_type": "stream",
          "name": "stdout",
          "text": [
            "nirmal 5\n"
          ]
        }
      ]
    },
    {
      "cell_type": "code",
      "source": [
        "num1 = int(input(\"Enter 1st number = \"))\n",
        "num2 = int(input(\"Enter 2nd number = \"))\n",
        "add = num1 + num2\n",
        "print(\"Add = \",add)"
      ],
      "metadata": {
        "colab": {
          "base_uri": "https://localhost:8080/"
        },
        "id": "K_YjF9daRHo_",
        "outputId": "89088ad6-9e34-4d39-c0df-099b7df2e352"
      },
      "execution_count": 27,
      "outputs": [
        {
          "output_type": "stream",
          "name": "stdout",
          "text": [
            "Enter 1st number = 67\n",
            "Enter 2nd number = 76\n",
            "Add =  143\n"
          ]
        }
      ]
    },
    {
      "cell_type": "code",
      "source": [
        "num1 = int(input(\"Enter 1st number = \"))\n",
        "num2 = int(input(\"Enter 2nd number = \"))\n",
        "sub = num1-num2\n",
        "multiply = num1*num2\n",
        "division = num1/num2\n",
        "print(\"subtraction = \",sub)\n",
        "print(\"Multiplication = \",multiply)\n",
        "print(\"Divison = \",division)"
      ],
      "metadata": {
        "colab": {
          "base_uri": "https://localhost:8080/"
        },
        "id": "E2gx92dfR9Ri",
        "outputId": "d7c261d8-025f-409a-b69f-870a9d8b4b48"
      },
      "execution_count": 29,
      "outputs": [
        {
          "output_type": "stream",
          "name": "stdout",
          "text": [
            "Enter 1st number = 65\n",
            "Enter 2nd number = 35\n",
            "subtraction =  30\n",
            "Multiplication =  2275\n",
            "Divison =  1.8571428571428572\n"
          ]
        }
      ]
    },
    {
      "cell_type": "code",
      "source": [],
      "metadata": {
        "id": "5_4BF5NmTCHQ"
      },
      "execution_count": null,
      "outputs": []
    },
    {
      "cell_type": "code",
      "source": [
        "num1 = int(input(\"Enter 1st number = \"))\n",
        "num2 = int(input(\"Enter 2nd number = \"))\n",
        "percentage = (num1/num2)*100\n",
        "print(\"Percentage = \",percentage)\n"
      ],
      "metadata": {
        "colab": {
          "base_uri": "https://localhost:8080/"
        },
        "outputId": "3b3bcc23-cfac-469a-d290-598f173145bd",
        "id": "_YQ7zLW_TQoO"
      },
      "execution_count": 31,
      "outputs": [
        {
          "output_type": "stream",
          "name": "stdout",
          "text": [
            "Enter 1st number = 54\n",
            "Enter 2nd number = 80\n",
            "Percentage =  67.5\n"
          ]
        }
      ]
    },
    {
      "cell_type": "code",
      "source": [],
      "metadata": {
        "id": "Y5yUIcNrTnRZ"
      },
      "execution_count": null,
      "outputs": []
    },
    {
      "cell_type": "code",
      "source": [
        "num1 = int(input(\"Enter the side = \"))\n",
        "perimeter = num1*4\n",
        "print(\"Perimeter of square = \",perimeter)\n",
        "\n",
        "\n"
      ],
      "metadata": {
        "colab": {
          "base_uri": "https://localhost:8080/"
        },
        "outputId": "4b23d661-dbd3-4b6c-fee9-9ad36e15ec1d",
        "id": "l2IYqMCRTpdr"
      },
      "execution_count": 35,
      "outputs": [
        {
          "output_type": "stream",
          "name": "stdout",
          "text": [
            "Enter the side = 5\n",
            "Perimeter of square =  20\n"
          ]
        }
      ]
    },
    {
      "cell_type": "code",
      "source": [],
      "metadata": {
        "id": "qppGSe0uU1Gs"
      },
      "execution_count": null,
      "outputs": []
    },
    {
      "cell_type": "code",
      "source": [
        "num1 = int(input(\"Enter length = \"))\n",
        "num2 = int(input(\"Enter breadth = \"))\n",
        "area =  num1*num2\n",
        "print(\"Area of rectangle = \",area)\n",
        "\n"
      ],
      "metadata": {
        "colab": {
          "base_uri": "https://localhost:8080/"
        },
        "outputId": "e6e0b933-aef2-43d4-e2e2-a1419256fc3b",
        "id": "6o1J8gNmU4J8"
      },
      "execution_count": 38,
      "outputs": [
        {
          "output_type": "stream",
          "name": "stdout",
          "text": [
            "Enter length = 4\n",
            "Enter breadth = 6\n",
            "Area of rectangle =  24\n"
          ]
        }
      ]
    },
    {
      "cell_type": "code",
      "source": [],
      "metadata": {
        "id": "_A2HdOP_VuO4"
      },
      "execution_count": null,
      "outputs": []
    },
    {
      "cell_type": "code",
      "source": [
        "num1 = int(input(\"Enter the side = \"))\n",
        "area = num1*num1\n",
        "print(\"Area of square = \",area)\n"
      ],
      "metadata": {
        "colab": {
          "base_uri": "https://localhost:8080/"
        },
        "outputId": "f121605a-fc38-4334-fa18-30153f7c57cd",
        "id": "z5Z0HUnKVvD4"
      },
      "execution_count": 39,
      "outputs": [
        {
          "output_type": "stream",
          "name": "stdout",
          "text": [
            "Enter the side = 7\n",
            "Area of square =  49\n"
          ]
        }
      ]
    },
    {
      "cell_type": "code",
      "source": [],
      "metadata": {
        "id": "jZ-yArssWD0m"
      },
      "execution_count": null,
      "outputs": []
    },
    {
      "cell_type": "code",
      "source": [
        "num1 = int(input(\"Enter length = \"))\n",
        "num2 = int(input(\"Enter breadth = \"))\n",
        "perimeter = 2*(num1+num2)\n",
        "print(\"Perimetre of rectangle = \",perimeter)\n"
      ],
      "metadata": {
        "colab": {
          "base_uri": "https://localhost:8080/"
        },
        "outputId": "a2f40868-bfc1-46f1-c760-c0d9145ea56d",
        "id": "bYFtn-MYWGUX"
      },
      "execution_count": 40,
      "outputs": [
        {
          "output_type": "stream",
          "name": "stdout",
          "text": [
            "Enter length = 4\n",
            "Enter breadth = 6\n",
            "Perimetre of rectangle =  20\n"
          ]
        }
      ]
    },
    {
      "cell_type": "code",
      "source": [],
      "metadata": {
        "id": "siYyGYixWbMX"
      },
      "execution_count": null,
      "outputs": []
    },
    {
      "cell_type": "code",
      "source": [
        "num1 = int(input(\"Enter height = \"))\n",
        "num2 = int(input(\"Enter base = \"))\n",
        "area = 0.5*num1*num2\n",
        "print(\"Area of triangle = \",area)\n"
      ],
      "metadata": {
        "colab": {
          "base_uri": "https://localhost:8080/"
        },
        "outputId": "c9a7fb4c-b614-48e8-b425-3b293107c6a7",
        "id": "izLksgtNW3oc"
      },
      "execution_count": 41,
      "outputs": [
        {
          "output_type": "stream",
          "name": "stdout",
          "text": [
            "Enter height = 8\n",
            "Enter base = 9\n",
            "Area of triangle =  36.0\n"
          ]
        }
      ]
    },
    {
      "cell_type": "code",
      "source": [],
      "metadata": {
        "id": "OBE8lFmUXJnU"
      },
      "execution_count": 42,
      "outputs": []
    },
    {
      "cell_type": "code",
      "source": [
        "word = str(input(\"Enter the name = \"))\n",
        "times = int(input(\"Enter no.of times = \"))\n",
        "for i in range(0,times):\n",
        "  print(word)"
      ],
      "metadata": {
        "colab": {
          "base_uri": "https://localhost:8080/"
        },
        "outputId": "c07bc48a-65d5-40de-abcb-8c0c1b5d10e2",
        "id": "x1bxZgEpXYcT"
      },
      "execution_count": 50,
      "outputs": [
        {
          "output_type": "stream",
          "name": "stdout",
          "text": [
            "Enter the name = akshay\n",
            "Enter no.of times = 5\n",
            "akshay\n",
            "akshay\n",
            "akshay\n",
            "akshay\n",
            "akshay\n"
          ]
        }
      ]
    }
  ]
}